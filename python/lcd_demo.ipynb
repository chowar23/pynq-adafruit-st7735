{
 "cells": [
  {
   "cell_type": "code",
   "execution_count": null,
   "id": "d0970315",
   "metadata": {},
   "outputs": [],
   "source": [
    "####################################################\n",
    "# Load overlay from PS to PL\n",
    "####################################################\n",
    "from pynq import Overlay\n",
    "\n",
    "overlay = Overlay(\"lcd_demo_arty_z7_20.bit\")"
   ]
  },
  {
   "cell_type": "code",
   "execution_count": null,
   "id": "95e674cc",
   "metadata": {},
   "outputs": [],
   "source": [
    "####################################################\n",
    "# Configure PL clock since we didn't change BOOT.BIN\n",
    "# after generating PL bit file.\n",
    "####################################################\n",
    "from pynq import Clocks\n",
    "\n",
    "print(f'Clock was: {Clocks.fclk0_mhz} MHz')\n",
    "Clocks.fclk0_mhz = 100\n",
    "print(f'Clock is:  {Clocks.fclk0_mhz} MHz')"
   ]
  },
  {
   "cell_type": "code",
   "execution_count": null,
   "id": "b155126f",
   "metadata": {},
   "outputs": [],
   "source": [
    "####################################################\n",
    "# Configure interface to Adafruit ST7735 TFT\n",
    "####################################################\n",
    "from adafruit_st7735 import ST7735\n",
    "from pynq_spi_tft import PynqSpiTft\n",
    "\n",
    "spi = PynqSpiTft()\n",
    "spi.reset()\n",
    "lcd = ST7735(spi, tab_color=\"ST7735R_BLACK_TAB\")"
   ]
  },
  {
   "cell_type": "code",
   "execution_count": null,
   "id": "735b53b8",
   "metadata": {},
   "outputs": [],
   "source": [
    "####################################################\n",
    "# Configure DMA\n",
    "####################################################\n",
    "from pynq import allocate\n",
    "dma = overlay.axi_dma_0\n",
    "\n",
    "####################################################\n",
    "# Allocate image buffer\n",
    "####################################################\n",
    "import numpy as np\n",
    "\n",
    "\n",
    "TX_BUFFER_SIZE = 3*lcd.width*lcd.height\n",
    "tx_buffer = allocate(shape=(TX_BUFFER_SIZE,), dtype=np.uint8)"
   ]
  },
  {
   "cell_type": "code",
   "execution_count": null,
   "id": "c61c1225",
   "metadata": {},
   "outputs": [],
   "source": [
    "####################################################\n",
    "# Open video file and check for error(s)\n",
    "####################################################\n",
    "import cv2\n",
    "\n",
    "# Video to send to LCD Screen\n",
    "VIDEO_FILE = \"BigBuckBunny_640x360.m4v\"\n",
    "\n",
    "vid = cv2.VideoCapture(VIDEO_FILE)\n",
    "if vid.isOpened() == False: \n",
    "  print(\"Error opening video stream or file\")"
   ]
  },
  {
   "cell_type": "code",
   "execution_count": null,
   "id": "abc8b109",
   "metadata": {},
   "outputs": [],
   "source": [
    "####################################################\n",
    "# Send video to screen one image at a time\n",
    "####################################################\n",
    "lcd.set_rotation(3)\n",
    "lcd.enable_display(True)\n",
    "lcd.set_addr_window(0, 0, lcd.width, lcd.height)\n",
    "\n",
    "while True:\n",
    "    # Grab next video frame\n",
    "    ret, frame = vid.read()\n",
    "    if ret == False:\n",
    "        break\n",
    "    \n",
    "    # Resize image to LCD screen size\n",
    "    frame_128x160 = cv2.resize(frame, (lcd.width, lcd.height), interpolation=cv2.INTER_NEAREST)\n",
    "    \n",
    "    # Send image and wait for transfer to finish\n",
    "    tx_buffer[:] = frame_128x160.flatten().view(dtype=np.uint8)\n",
    "    dma.sendchannel.transfer(tx_buffer)\n",
    "    dma.sendchannel.wait()    "
   ]
  },
  {
   "cell_type": "code",
   "execution_count": null,
   "id": "a6ff9b19",
   "metadata": {},
   "outputs": [],
   "source": [
    "# Clean Up\n",
    "del tx_buffer\n",
    "vid.release()"
   ]
  }
 ],
 "metadata": {
  "language_info": {
   "name": "python"
  }
 },
 "nbformat": 4,
 "nbformat_minor": 5
}
